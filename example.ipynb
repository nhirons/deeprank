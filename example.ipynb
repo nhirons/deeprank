{
 "cells": [
  {
   "cell_type": "code",
   "execution_count": 1,
   "metadata": {},
   "outputs": [
    {
     "name": "stderr",
     "output_type": "stream",
     "text": [
      "Using TensorFlow backend.\n",
      "/Users/nicholashirons/anaconda/lib/python3.6/importlib/_bootstrap.py:219: RuntimeWarning: compiletime version 3.5 of module 'tensorflow.python.framework.fast_tensor_util' does not match runtime version 3.6\n",
      "  return f(*args, **kwds)\n"
     ]
    }
   ],
   "source": [
    "import numpy as np\n",
    "import matplotlib.pyplot as plt\n",
    "\n",
    "from sklearn.datasets import make_regression\n",
    "from sklearn.preprocessing import QuantileTransformer\n",
    "from sklearn.model_selection import train_test_split\n",
    "\n",
    "from keras.utils import to_categorical\n",
    "from keras.models import Sequential\n",
    "from keras.layers import Dense\n",
    "from keras.callbacks import ModelCheckpoint, EarlyStopping\n",
    "\n",
    "from deeprank import OrdinalOutput"
   ]
  },
  {
   "cell_type": "code",
   "execution_count": 2,
   "metadata": {
    "collapsed": true
   },
   "outputs": [],
   "source": [
    "x, y = make_regression(\n",
    "    n_samples=10000,\n",
    "    n_features=20,\n",
    "    n_informative=15)"
   ]
  },
  {
   "cell_type": "code",
   "execution_count": 3,
   "metadata": {},
   "outputs": [
    {
     "data": {
      "text/plain": [
       "array([ 0.2502,  0.2498,  0.25  ,  0.25  ])"
      ]
     },
     "execution_count": 3,
     "metadata": {},
     "output_type": "execute_result"
    }
   ],
   "source": [
    "qt = QuantileTransformer()\n",
    "y = qt.fit_transform(y.reshape(-1, 1))[:,0]\n",
    "y = np.floor(y * 4) # Encode to 4 uniformly distributed ranks\n",
    "y = to_categorical(y)\n",
    "y.mean(axis=0)"
   ]
  },
  {
   "cell_type": "code",
   "execution_count": 4,
   "metadata": {},
   "outputs": [],
   "source": [
    "x_train, x_val, y_train, y_val = train_test_split(x, y)"
   ]
  },
  {
   "cell_type": "code",
   "execution_count": 5,
   "metadata": {
    "collapsed": true
   },
   "outputs": [],
   "source": [
    "model = Sequential()\n",
    "model.add(Dense(units=32, activation='relu', input_dim=20))\n",
    "model.add(Dense(units=32, activation='relu'))\n",
    "model.add(Dense(units=1, activation='linear'))\n",
    "model.add(OrdinalOutput(output_dim=4))"
   ]
  },
  {
   "cell_type": "code",
   "execution_count": 6,
   "metadata": {
    "collapsed": true
   },
   "outputs": [],
   "source": [
    "model.compile(\n",
    "    loss='categorical_crossentropy',\n",
    "    optimizer='adam',\n",
    "    metrics=['accuracy'])"
   ]
  },
  {
   "cell_type": "code",
   "execution_count": 7,
   "metadata": {},
   "outputs": [],
   "source": [
    "model_checkpoint = ModelCheckpoint(\n",
    "    filepath='best_weights.h5',\n",
    "    monitor='val_loss',\n",
    "    verbose=0,\n",
    "    save_best_only=True,\n",
    "    save_weights_only=True)"
   ]
  },
  {
   "cell_type": "code",
   "execution_count": 8,
   "metadata": {},
   "outputs": [],
   "source": [
    "early_stopping = EarlyStopping(\n",
    "    monitor='val_loss',\n",
    "    patience=5,\n",
    "    verbose=1)"
   ]
  },
  {
   "cell_type": "code",
   "execution_count": 9,
   "metadata": {},
   "outputs": [
    {
     "name": "stdout",
     "output_type": "stream",
     "text": [
      "Train on 7500 samples, validate on 2500 samples\n",
      "Epoch 1/100\n",
      "7500/7500 [==============================] - 1s 111us/step - loss: 1.2499 - acc: 0.4825 - val_loss: 1.0642 - val_acc: 0.5000\n",
      "Epoch 2/100\n",
      "7500/7500 [==============================] - 0s 66us/step - loss: 0.9886 - acc: 0.5003 - val_loss: 0.9259 - val_acc: 0.5000\n",
      "Epoch 3/100\n",
      "7500/7500 [==============================] - 0s 66us/step - loss: 0.8741 - acc: 0.5003 - val_loss: 0.8328 - val_acc: 0.5000\n",
      "Epoch 4/100\n",
      "7500/7500 [==============================] - 1s 68us/step - loss: 0.7911 - acc: 0.5169 - val_loss: 0.7610 - val_acc: 0.5544\n",
      "Epoch 5/100\n",
      "7500/7500 [==============================] - 0s 65us/step - loss: 0.7239 - acc: 0.5653 - val_loss: 0.7023 - val_acc: 0.5948\n",
      "Epoch 6/100\n",
      "7500/7500 [==============================] - 0s 66us/step - loss: 0.6668 - acc: 0.6451 - val_loss: 0.6494 - val_acc: 0.6864\n",
      "Epoch 7/100\n",
      "7500/7500 [==============================] - 1s 67us/step - loss: 0.6168 - acc: 0.7140 - val_loss: 0.6045 - val_acc: 0.7404\n",
      "Epoch 8/100\n",
      "7500/7500 [==============================] - 1s 67us/step - loss: 0.5728 - acc: 0.7772 - val_loss: 0.5613 - val_acc: 0.7920\n",
      "Epoch 9/100\n",
      "7500/7500 [==============================] - 0s 66us/step - loss: 0.5339 - acc: 0.8271 - val_loss: 0.5267 - val_acc: 0.8292\n",
      "Epoch 10/100\n",
      "7500/7500 [==============================] - 0s 65us/step - loss: 0.4996 - acc: 0.8632 - val_loss: 0.4948 - val_acc: 0.8568\n",
      "Epoch 11/100\n",
      "7500/7500 [==============================] - 0s 66us/step - loss: 0.4691 - acc: 0.8892 - val_loss: 0.4688 - val_acc: 0.8680\n",
      "Epoch 12/100\n",
      "7500/7500 [==============================] - 1s 68us/step - loss: 0.4422 - acc: 0.9065 - val_loss: 0.4472 - val_acc: 0.8760\n",
      "Epoch 13/100\n",
      "7500/7500 [==============================] - 0s 66us/step - loss: 0.4169 - acc: 0.9205 - val_loss: 0.4206 - val_acc: 0.8996\n",
      "Epoch 14/100\n",
      "7500/7500 [==============================] - 1s 68us/step - loss: 0.3953 - acc: 0.9315 - val_loss: 0.4012 - val_acc: 0.9004\n",
      "Epoch 15/100\n",
      "7500/7500 [==============================] - 0s 66us/step - loss: 0.3744 - acc: 0.9403 - val_loss: 0.3826 - val_acc: 0.9132\n",
      "Epoch 16/100\n",
      "7500/7500 [==============================] - 1s 67us/step - loss: 0.3549 - acc: 0.9451 - val_loss: 0.3653 - val_acc: 0.9144\n",
      "Epoch 17/100\n",
      "7500/7500 [==============================] - 0s 66us/step - loss: 0.3378 - acc: 0.9503 - val_loss: 0.3486 - val_acc: 0.9220\n",
      "Epoch 18/100\n",
      "7500/7500 [==============================] - 0s 66us/step - loss: 0.3206 - acc: 0.9553 - val_loss: 0.3350 - val_acc: 0.9264\n",
      "Epoch 19/100\n",
      "7500/7500 [==============================] - 0s 66us/step - loss: 0.3062 - acc: 0.9595 - val_loss: 0.3261 - val_acc: 0.9260\n",
      "Epoch 20/100\n",
      "7500/7500 [==============================] - 1s 67us/step - loss: 0.2923 - acc: 0.9604 - val_loss: 0.3102 - val_acc: 0.9284\n",
      "Epoch 21/100\n",
      "7500/7500 [==============================] - 0s 66us/step - loss: 0.2785 - acc: 0.9663 - val_loss: 0.2988 - val_acc: 0.9316\n",
      "Epoch 22/100\n",
      "7500/7500 [==============================] - 0s 66us/step - loss: 0.2653 - acc: 0.9701 - val_loss: 0.2869 - val_acc: 0.9344\n",
      "Epoch 23/100\n",
      "7500/7500 [==============================] - 0s 66us/step - loss: 0.2537 - acc: 0.9685 - val_loss: 0.2766 - val_acc: 0.9328\n",
      "Epoch 24/100\n",
      "7500/7500 [==============================] - 1s 67us/step - loss: 0.2421 - acc: 0.9723 - val_loss: 0.2701 - val_acc: 0.9392\n",
      "Epoch 25/100\n",
      "7500/7500 [==============================] - 0s 66us/step - loss: 0.2324 - acc: 0.9728 - val_loss: 0.2572 - val_acc: 0.9396\n",
      "Epoch 26/100\n",
      "7500/7500 [==============================] - 1s 67us/step - loss: 0.2219 - acc: 0.9744 - val_loss: 0.2513 - val_acc: 0.9340\n",
      "Epoch 27/100\n",
      "7500/7500 [==============================] - 0s 66us/step - loss: 0.2134 - acc: 0.9732 - val_loss: 0.2438 - val_acc: 0.9404\n",
      "Epoch 28/100\n",
      "7500/7500 [==============================] - 0s 66us/step - loss: 0.2045 - acc: 0.9768 - val_loss: 0.2363 - val_acc: 0.9404\n",
      "Epoch 29/100\n",
      "7500/7500 [==============================] - 1s 67us/step - loss: 0.1948 - acc: 0.9792 - val_loss: 0.2300 - val_acc: 0.9408\n",
      "Epoch 30/100\n",
      "7500/7500 [==============================] - 0s 66us/step - loss: 0.1873 - acc: 0.9792 - val_loss: 0.2179 - val_acc: 0.9484\n",
      "Epoch 31/100\n",
      "7500/7500 [==============================] - 0s 67us/step - loss: 0.1799 - acc: 0.9808 - val_loss: 0.2178 - val_acc: 0.9408\n",
      "Epoch 32/100\n",
      "7500/7500 [==============================] - 0s 67us/step - loss: 0.1720 - acc: 0.9831 - val_loss: 0.2130 - val_acc: 0.9400\n",
      "Epoch 33/100\n",
      "7500/7500 [==============================] - 1s 67us/step - loss: 0.1658 - acc: 0.9808 - val_loss: 0.2010 - val_acc: 0.9492\n",
      "Epoch 34/100\n",
      "7500/7500 [==============================] - 0s 66us/step - loss: 0.1590 - acc: 0.9833 - val_loss: 0.1968 - val_acc: 0.9468\n",
      "Epoch 35/100\n",
      "7500/7500 [==============================] - 1s 67us/step - loss: 0.1527 - acc: 0.9837 - val_loss: 0.1928 - val_acc: 0.9464\n",
      "Epoch 36/100\n",
      "7500/7500 [==============================] - 1s 67us/step - loss: 0.1457 - acc: 0.9852 - val_loss: 0.1845 - val_acc: 0.9528\n",
      "Epoch 37/100\n",
      "7500/7500 [==============================] - 0s 66us/step - loss: 0.1399 - acc: 0.9845 - val_loss: 0.1796 - val_acc: 0.9520\n",
      "Epoch 38/100\n",
      "7500/7500 [==============================] - 0s 66us/step - loss: 0.1344 - acc: 0.9847 - val_loss: 0.1755 - val_acc: 0.9504\n",
      "Epoch 39/100\n",
      "7500/7500 [==============================] - 0s 66us/step - loss: 0.1287 - acc: 0.9861 - val_loss: 0.1750 - val_acc: 0.9460\n",
      "Epoch 40/100\n",
      "7500/7500 [==============================] - 1s 67us/step - loss: 0.1223 - acc: 0.9868 - val_loss: 0.1694 - val_acc: 0.9464\n",
      "Epoch 41/100\n",
      "7500/7500 [==============================] - 0s 65us/step - loss: 0.1172 - acc: 0.9867 - val_loss: 0.1663 - val_acc: 0.9500\n",
      "Epoch 42/100\n",
      "7500/7500 [==============================] - 0s 66us/step - loss: 0.1118 - acc: 0.9877 - val_loss: 0.1603 - val_acc: 0.9516\n",
      "Epoch 43/100\n",
      "7500/7500 [==============================] - 1s 67us/step - loss: 0.1089 - acc: 0.9867 - val_loss: 0.1562 - val_acc: 0.9496\n",
      "Epoch 44/100\n",
      "7500/7500 [==============================] - 1s 67us/step - loss: 0.1025 - acc: 0.9897 - val_loss: 0.1521 - val_acc: 0.9516\n",
      "Epoch 45/100\n",
      "7500/7500 [==============================] - 1s 68us/step - loss: 0.0992 - acc: 0.9899 - val_loss: 0.1437 - val_acc: 0.9568\n",
      "Epoch 46/100\n",
      "7500/7500 [==============================] - 0s 66us/step - loss: 0.0955 - acc: 0.9885 - val_loss: 0.1451 - val_acc: 0.9568\n",
      "Epoch 47/100\n",
      "7500/7500 [==============================] - 0s 66us/step - loss: 0.0903 - acc: 0.9911 - val_loss: 0.1466 - val_acc: 0.9520\n",
      "Epoch 48/100\n",
      "7500/7500 [==============================] - 0s 66us/step - loss: 0.0880 - acc: 0.9907 - val_loss: 0.1410 - val_acc: 0.9520\n",
      "Epoch 49/100\n",
      "7500/7500 [==============================] - 0s 66us/step - loss: 0.0849 - acc: 0.9900 - val_loss: 0.1447 - val_acc: 0.9544\n",
      "Epoch 50/100\n",
      "7500/7500 [==============================] - 0s 66us/step - loss: 0.0819 - acc: 0.9909 - val_loss: 0.1361 - val_acc: 0.9552\n",
      "Epoch 51/100\n",
      "7500/7500 [==============================] - 0s 65us/step - loss: 0.0774 - acc: 0.9924 - val_loss: 0.1368 - val_acc: 0.9548\n",
      "Epoch 52/100\n",
      "7500/7500 [==============================] - 0s 66us/step - loss: 0.0758 - acc: 0.9908 - val_loss: 0.1425 - val_acc: 0.9524\n",
      "Epoch 53/100\n",
      "7500/7500 [==============================] - 1s 67us/step - loss: 0.0729 - acc: 0.9916 - val_loss: 0.1295 - val_acc: 0.9552\n",
      "Epoch 54/100\n",
      "7500/7500 [==============================] - 1s 68us/step - loss: 0.0697 - acc: 0.9936 - val_loss: 0.1271 - val_acc: 0.9552\n",
      "Epoch 55/100\n",
      "7500/7500 [==============================] - 0s 66us/step - loss: 0.0677 - acc: 0.9917 - val_loss: 0.1268 - val_acc: 0.9560\n",
      "Epoch 56/100\n",
      "7500/7500 [==============================] - 0s 66us/step - loss: 0.0654 - acc: 0.9917 - val_loss: 0.1267 - val_acc: 0.9532\n",
      "Epoch 57/100\n",
      "7500/7500 [==============================] - 0s 67us/step - loss: 0.0626 - acc: 0.9932 - val_loss: 0.1210 - val_acc: 0.9584\n",
      "Epoch 58/100\n",
      "7500/7500 [==============================] - 0s 66us/step - loss: 0.0601 - acc: 0.9943 - val_loss: 0.1239 - val_acc: 0.9564\n",
      "Epoch 59/100\n",
      "7500/7500 [==============================] - 1s 67us/step - loss: 0.0588 - acc: 0.9931 - val_loss: 0.1174 - val_acc: 0.9568\n",
      "Epoch 60/100\n"
     ]
    },
    {
     "name": "stdout",
     "output_type": "stream",
     "text": [
      "7500/7500 [==============================] - 0s 65us/step - loss: 0.0560 - acc: 0.9933 - val_loss: 0.1190 - val_acc: 0.9552\n",
      "Epoch 61/100\n",
      "7500/7500 [==============================] - 0s 62us/step - loss: 0.0544 - acc: 0.9948 - val_loss: 0.1179 - val_acc: 0.9564\n",
      "Epoch 62/100\n",
      "7500/7500 [==============================] - 0s 63us/step - loss: 0.0535 - acc: 0.9941 - val_loss: 0.1185 - val_acc: 0.9560\n",
      "Epoch 63/100\n",
      "7500/7500 [==============================] - 0s 63us/step - loss: 0.0508 - acc: 0.9939 - val_loss: 0.1177 - val_acc: 0.9540\n",
      "Epoch 64/100\n",
      "7500/7500 [==============================] - 0s 64us/step - loss: 0.0480 - acc: 0.9945 - val_loss: 0.1164 - val_acc: 0.9564\n",
      "Epoch 65/100\n",
      "7500/7500 [==============================] - 0s 63us/step - loss: 0.0463 - acc: 0.9937 - val_loss: 0.1148 - val_acc: 0.9564\n",
      "Epoch 66/100\n",
      "7500/7500 [==============================] - 0s 64us/step - loss: 0.0442 - acc: 0.9948 - val_loss: 0.1079 - val_acc: 0.9572\n",
      "Epoch 67/100\n",
      "7500/7500 [==============================] - 0s 63us/step - loss: 0.0431 - acc: 0.9956 - val_loss: 0.1178 - val_acc: 0.9576\n",
      "Epoch 68/100\n",
      "7500/7500 [==============================] - 0s 63us/step - loss: 0.0413 - acc: 0.9959 - val_loss: 0.1102 - val_acc: 0.9556\n",
      "Epoch 69/100\n",
      "7500/7500 [==============================] - 0s 63us/step - loss: 0.0418 - acc: 0.9939 - val_loss: 0.1173 - val_acc: 0.9572\n",
      "Epoch 70/100\n",
      "7500/7500 [==============================] - 0s 63us/step - loss: 0.0381 - acc: 0.9961 - val_loss: 0.1131 - val_acc: 0.9568\n",
      "Epoch 71/100\n",
      "7500/7500 [==============================] - 0s 63us/step - loss: 0.0379 - acc: 0.9953 - val_loss: 0.1207 - val_acc: 0.9548\n",
      "Epoch 00071: early stopping\n"
     ]
    }
   ],
   "source": [
    "history = model.fit(\n",
    "    x_train, y_train,\n",
    "    epochs=100,\n",
    "    batch_size=32,\n",
    "    validation_data=(x_val, y_val),\n",
    "    callbacks=[model_checkpoint, early_stopping])"
   ]
  },
  {
   "cell_type": "code",
   "execution_count": 10,
   "metadata": {
    "scrolled": true
   },
   "outputs": [
    {
     "data": {
      "image/png": "[encoded data removed]",
      "text/plain": [
       "<matplotlib.figure.Figure at 0x1a2675aef0>"
      ]
     },
     "metadata": {},
     "output_type": "display_data"
    }
   ],
   "source": [
    "plt.plot(history.history['acc'], '--')\n",
    "plt.plot(history.history['val_acc'])\n",
    "plt.plot(history.history['loss'], '--')\n",
    "plt.plot(history.history['val_loss'])\n",
    "plt.title('model accuracy and loss')\n",
    "plt.ylabel('accuracy/loss')\n",
    "plt.xlabel('epoch')\n",
    "plt.ylim([0, 1])\n",
    "plt.legend(['train_acc', 'val_acc', 'train_loss', 'val_loss'], loc='right')\n",
    "plt.show()"
   ]
  },
  {
   "cell_type": "code",
   "execution_count": 11,
   "metadata": {},
   "outputs": [
    {
     "data": {
      "text/plain": [
       "array([[-8.43735027,  0.6902377 ,  9.60691071]], dtype=float32)"
      ]
     },
     "execution_count": 11,
     "metadata": {},
     "output_type": "execute_result"
    }
   ],
   "source": [
    "model.load_weights('best_weights.h5')\n",
    "model.layers[-1].get_weights()[0]"
   ]
  }
 ],
 "metadata": {
  "kernelspec": {
   "display_name": "Python 3",
   "language": "python",
   "name": "python3"
  },
  "language_info": {
   "codemirror_mode": {
    "name": "ipython",
    "version": 3
   },
   "file_extension": ".py",
   "mimetype": "text/x-python",
   "name": "python",
   "nbconvert_exporter": "python",
   "pygments_lexer": "ipython3",
   "version": "3.6.3"
  }
 },
 "nbformat": 4,
 "nbformat_minor": 2
}
